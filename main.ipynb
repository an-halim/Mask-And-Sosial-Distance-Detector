{
 "cells": [
  {
   "cell_type": "code",
   "execution_count": 68,
   "metadata": {},
   "outputs": [],
   "source": [
    "#import library\n",
    "\n",
    "from scipy.spatial import distance as dist\n",
    "from tensorflow.keras.applications.mobilenet_v2 import preprocess_input\n",
    "from tensorflow.keras.preprocessing.image import img_to_array\n",
    "from tensorflow.keras.models import load_model\n",
    "from sklearn.cluster import DBSCAN\n",
    "from imutils.video import VideoStream\n",
    "import numpy as np\n",
    "import imutils\n",
    "import time\n",
    "import cv2\n",
    "import os\n",
    "import sys\n"
   ]
  },
  {
   "cell_type": "code",
   "execution_count": 69,
   "metadata": {},
   "outputs": [],
   "source": [
    "# below are confguration\n",
    "USE_GPU = True\n",
    "MIN_CONF = 0.3\n",
    "NMS_THRESH = 0.3\n"
   ]
  },
  {
   "cell_type": "markdown",
   "metadata": {},
   "source": [
    "Deteksi manusia dan Clustering"
   ]
  },
  {
   "cell_type": "code",
   "execution_count": 70,
   "metadata": {},
   "outputs": [],
   "source": [
    "\n",
    "def measuring_object_distance(frame, net, ln, personIdx=0):\n",
    "    (H, W) = frame.shape[:2]\n",
    "    results = []\n",
    "    boxes = []\n",
    "    centroids = []\n",
    "    confidences = []\n",
    "    person_coordinates = []\n",
    "\n",
    "    blob = cv2.dnn.blobFromImage(frame, 1 / 255.0, (416, 416),\n",
    "                                 swapRB=True, crop=False)\n",
    "    net.setInput(blob)\n",
    "    layerOutputs = net.forward(ln)\n",
    "\n",
    "    for output in layerOutputs:\n",
    "        for detection in output:\n",
    "\n",
    "            scores = detection[5:]\n",
    "            classID = np.argmax(scores)\n",
    "            confidence = scores[classID]\n",
    "\n",
    "            if classID == personIdx and confidence > MIN_CONF:\n",
    "\n",
    "                box = detection[0:4] * np.array([W, H, W, H])\n",
    "                (centerX, centerY, width, height) = box.astype(\"int\")\n",
    "                x = int(centerX - (width / 2))\n",
    "                y = int(centerY - (height / 2))\n",
    "\n",
    "                boxes.append([x, y, int(width), int(height)])                \n",
    "                centroids.append((centerX, centerY))\n",
    "                confidences.append(float(confidence))\n",
    "\n",
    "    indexs = cv2.dnn.NMSBoxes(boxes, confidences, MIN_CONF, NMS_THRESH)\n",
    "\n",
    "    if len(indexs) > 0:\n",
    "\n",
    "        for i in indexs.flatten():\n",
    "\n",
    "            (x, y) = (boxes[i][0], boxes[i][1])\n",
    "            (w, h) = (boxes[i][2], boxes[i][3])\n",
    "\n",
    "            (cx, cy) = centroids[i]\n",
    "            color = (0, 255, 0)\n",
    "            cv2.circle(frame, (cx, cy), 5, color, 1)\n",
    "            results.append([x,y,w,h])\n",
    "            data = [x,y,w,h]\n",
    "            person_coordinates.append((data[0]+int(data[2]/2), data[1]+int(data[3]/2)))\n",
    "        \n",
    "        clustering = DBSCAN(eps=100,min_samples=2).fit(person_coordinates)\n",
    "        isSafe = clustering.labels_\n",
    "\n",
    "        # Count \n",
    "        person_count = len(results)\n",
    "        safe_count = np.sum((isSafe==-1)*1)\n",
    "        unsafe_count = person_count - safe_count\n",
    "        print(\"Person Count: \", person_count)\n",
    "        print(\"Safe Count: \", safe_count)\n",
    "\n",
    "        # buat garis untuk setiap orang yang terdeteksi\n",
    "        arg_sorted = np.argsort(isSafe)\n",
    "        for i in range(1,person_count):\n",
    "          if isSafe[arg_sorted[i]]!=-1 and isSafe[arg_sorted[i]]==isSafe[arg_sorted[i-1]]:\n",
    "            cv2.line(frame,person_coordinates[arg_sorted[i]],person_coordinates[arg_sorted[i-1]],(0,0,255),2)\n",
    "\n",
    "        # Put Bounding Boxes on People in the Frame\n",
    "        for p in range(person_count):\n",
    "          a,b,c,d = results[p]\n",
    "          color = (0,255,0) if isSafe[p]==-1 else (0,0,255)\n",
    "          cv2.rectangle(frame, (a, b), (a + c, b + d), color, 2)        \n",
    "\n",
    "        xpos = 15\n",
    "\n",
    "        string = \"Total People = \"+str(person_count)\n",
    "        cv2.putText(frame,string,(xpos,35),cv2.FONT_HERSHEY_SIMPLEX,1,(255,255,255),2)\n",
    "        xpos += cv2.getTextSize(string,cv2.FONT_HERSHEY_SIMPLEX,1,2)[0][0]\n",
    "\n",
    "        string = \" ( \"+str(safe_count) + \" Safe \"\n",
    "        cv2.putText(frame,string,(xpos,35),cv2.FONT_HERSHEY_SIMPLEX,1,(0,255,0),2)\n",
    "        xpos += cv2.getTextSize(string,cv2.FONT_HERSHEY_SIMPLEX,1,2)[0][0]\n",
    "\n",
    "        string = str(unsafe_count)+ \" Unsafe ) \"\n",
    "        cv2.putText(frame,string,(xpos,35),cv2.FONT_HERSHEY_SIMPLEX,1,(0,0,255),2)\n",
    "        xpos += cv2.getTextSize(string,cv2.FONT_HERSHEY_SIMPLEX,1,2)[0][0]\n",
    "        "
   ]
  },
  {
   "cell_type": "markdown",
   "metadata": {},
   "source": [
    "Fungsi Deteksi penggunaan masker\n"
   ]
  },
  {
   "cell_type": "code",
   "execution_count": 71,
   "metadata": {},
   "outputs": [],
   "source": [
    "def predict_mask(frame, faceNet, maskNet):\n",
    "\n",
    "    faces = []\n",
    "    locs = []\n",
    "    preds = []\n",
    "    \n",
    "    (h, w) = frame.shape[:2]\n",
    "    blob = cv2.dnn.blobFromImage(frame, 1.0, (224, 224),\n",
    "                                 (104.0, 177.0, 123.0))\n",
    "\n",
    "    faceNet.setInput(blob)\n",
    "    detections = faceNet.forward()\n",
    "\n",
    "    for i in range(0, detections.shape[2]):\n",
    "        confidence = detections[0, 0, i, 2]\n",
    "\n",
    "        if confidence > 0.5:\n",
    "            box = detections[0, 0, i, 3:7] * np.array([w, h, w, h])\n",
    "            (startX, startY, endX, endY) = box.astype(\"int\")\n",
    "\n",
    "            (startX, startY) = (max(0, startX), max(0, startY))\n",
    "            (endX, endY) = (min(w - 1, endX), min(h - 1, endY))\n",
    "\n",
    "            face = frame[startY:endY, startX:endX]\n",
    "            face = cv2.cvtColor(face, cv2.COLOR_BGR2RGB)\n",
    "            face = cv2.resize(face, (224, 224))\n",
    "            face = img_to_array(face)\n",
    "            face = preprocess_input(face)\n",
    "\n",
    "            # add the face and bounding boxes to their respective\n",
    "            # lists\n",
    "            faces.append(face)\n",
    "            locs.append((startX, startY, endX, endY))\n",
    "\n",
    "    #hanya lakukan prediksi terdapat wajah\n",
    "    if len(faces) > 0:\n",
    "        faces = np.array(faces, dtype=\"float32\")\n",
    "        preds = maskNet.predict(faces, batch_size=32)\n",
    "\n",
    "    return (locs, preds)\n"
   ]
  },
  {
   "cell_type": "markdown",
   "metadata": {},
   "source": [
    "Load yolo weights, model dan label\n"
   ]
  },
  {
   "cell_type": "code",
   "execution_count": 72,
   "metadata": {},
   "outputs": [
    {
     "name": "stdout",
     "output_type": "stream",
     "text": [
      "[INFO] loading YOLO from disk...\n",
      "[INFO] setting preferable backend and target to CUDA...\n"
     ]
    }
   ],
   "source": [
    "print(\"[INFO] loading YOLO from disk...\")\n",
    "# load the COCO class labels our YOLO model was trained on\n",
    "yoloLabels = open(\"./yolo-coco/coco.names\").read().strip().split(\"\\n\")\n",
    "yoloWeigths = \"./yolo-coco/yolov3.weights\"\n",
    "yoloConfig = \"./yolo-coco/yolov3.cfg\"\n",
    "\n",
    "net = cv2.dnn.readNetFromDarknet(yoloConfig, yoloWeigths)\n",
    "\n",
    "if USE_GPU:\n",
    "    print(\"[INFO] setting preferable backend and target to CUDA...\")\n",
    "    net.setPreferableBackend(cv2.dnn.DNN_BACKEND_CUDA)\n",
    "    net.setPreferableTarget(cv2.dnn.DNN_TARGET_CUDA)\n"
   ]
  },
  {
   "cell_type": "markdown",
   "metadata": {},
   "source": [
    "Load detector wajah\n"
   ]
  },
  {
   "cell_type": "code",
   "execution_count": 73,
   "metadata": {},
   "outputs": [
    {
     "name": "stdout",
     "output_type": "stream",
     "text": [
      "[INFO] loading face detector model...\n"
     ]
    }
   ],
   "source": [
    "# load our serialized face detector model from disk\n",
    "print(\"[INFO] loading face detector model...\")\n",
    "prototxtPath = r\"face_detector\\deploy.prototxt\"\n",
    "weightsPath = r\"face_detector\\res10_300x300_ssd_iter_140000.caffemodel\"\n",
    "faceNet = cv2.dnn.readNet(prototxtPath, weightsPath)\n"
   ]
  },
  {
   "cell_type": "markdown",
   "metadata": {},
   "source": [
    "Load model deteksi masker yang sudah di training\n"
   ]
  },
  {
   "cell_type": "code",
   "execution_count": 74,
   "metadata": {},
   "outputs": [
    {
     "name": "stdout",
     "output_type": "stream",
     "text": [
      "[INFO] loading face mask detector model...\n"
     ]
    }
   ],
   "source": [
    "print(\"[INFO] loading face mask detector model...\")\n",
    "MODEL_PATH = \"./model\"\n",
    "if not os.path.isdir(MODEL_PATH):\n",
    "    print(\"[INFO] Please put the model at model folder\")\n",
    "    sys.exit(0)\n",
    "maskNet = load_model(\"./model/mask_detector.h5\")\n"
   ]
  },
  {
   "cell_type": "markdown",
   "metadata": {},
   "source": [
    "Jalankan deteksi masker dan jarak\n"
   ]
  },
  {
   "cell_type": "code",
   "execution_count": 75,
   "metadata": {},
   "outputs": [
    {
     "name": "stdout",
     "output_type": "stream",
     "text": [
      "[INFO] accessing video stream...\n",
      "Person Count:  11\n",
      "Safe Count:  2\n",
      "Person Count:  11\n",
      "Safe Count:  2\n",
      "Person Count:  12\n",
      "Safe Count:  2\n",
      "Person Count:  11\n",
      "Safe Count:  2\n",
      "Person Count:  10\n",
      "Safe Count:  1\n",
      "Person Count:  10\n",
      "Safe Count:  1\n",
      "Person Count:  10\n",
      "Safe Count:  2\n",
      "Tidak Pakai Masker: 99.98%\n",
      "Person Count:  12\n",
      "Safe Count:  2\n",
      "Tidak Pakai Masker: 100.00%\n",
      "Person Count:  12\n",
      "Safe Count:  2\n",
      "Tidak Pakai Masker: 99.99%\n",
      "Person Count:  10\n",
      "Safe Count:  1\n",
      "Tidak Pakai Masker: 99.91%\n",
      "Person Count:  13\n",
      "Safe Count:  1\n",
      "Tidak Pakai Masker: 100.00%\n",
      "Person Count:  13\n",
      "Safe Count:  1\n",
      "Tidak Pakai Masker: 100.00%\n",
      "Person Count:  12\n",
      "Safe Count:  1\n",
      "Tidak Pakai Masker: 99.99%\n",
      "Person Count:  12\n",
      "Safe Count:  1\n",
      "Tidak Pakai Masker: 100.00%\n",
      "Person Count:  13\n",
      "Safe Count:  1\n",
      "Tidak Pakai Masker: 100.00%\n",
      "Person Count:  12\n",
      "Safe Count:  1\n",
      "Tidak Pakai Masker: 100.00%\n",
      "Person Count:  10\n",
      "Safe Count:  1\n",
      "Tidak Pakai Masker: 99.30%\n",
      "Person Count:  10\n",
      "Safe Count:  1\n",
      "Person Count:  10\n",
      "Safe Count:  1\n",
      "Person Count:  10\n",
      "Safe Count:  1\n",
      "Tidak Pakai Masker: 97.66%\n",
      "Person Count:  10\n",
      "Safe Count:  1\n",
      "Person Count:  10\n",
      "Safe Count:  1\n",
      "Person Count:  11\n",
      "Safe Count:  1\n",
      "Person Count:  12\n",
      "Safe Count:  1\n",
      "Person Count:  11\n",
      "Safe Count:  1\n",
      "Person Count:  10\n",
      "Safe Count:  1\n",
      "Person Count:  9\n",
      "Safe Count:  1\n",
      "Person Count:  10\n",
      "Safe Count:  1\n",
      "Person Count:  8\n",
      "Safe Count:  1\n",
      "Person Count:  8\n",
      "Safe Count:  2\n",
      "Person Count:  9\n",
      "Safe Count:  1\n",
      "Person Count:  8\n",
      "Safe Count:  2\n",
      "Person Count:  9\n",
      "Safe Count:  1\n",
      "Person Count:  10\n",
      "Safe Count:  1\n",
      "Person Count:  10\n",
      "Safe Count:  1\n",
      "Person Count:  9\n",
      "Safe Count:  1\n",
      "Person Count:  9\n",
      "Safe Count:  1\n",
      "Tidak Pakai Masker: 74.69%\n",
      "Person Count:  9\n",
      "Safe Count:  1\n",
      "Tidak Pakai Masker: 98.01%\n",
      "Person Count:  10\n",
      "Safe Count:  1\n",
      "Tidak Pakai Masker: 99.89%\n",
      "Person Count:  10\n",
      "Safe Count:  1\n",
      "Person Count:  12\n",
      "Safe Count:  1\n"
     ]
    }
   ],
   "source": [
    "print(\"[INFO] accessing video stream...\")\n",
    "vs = cv2.VideoCapture('./Crowded pedestrian area in Mong Kok.mp4') # un comment this line to use the video\n",
    "# vs = cv2.VideoCapture(0)\n",
    "\n",
    "ln = net.getLayerNames()\n",
    "ln = [ln[i - 1] for i in net.getUnconnectedOutLayers()]\n",
    "\n",
    "while True:\n",
    "\t(grabbed, frame) = vs.read()\n",
    "\n",
    "\tif not grabbed:\n",
    "\t\tbreak\n",
    "\n",
    "\tframe = imutils.resize(frame, width=700)\n",
    "\n",
    "\tmeasuring_object_distance(frame, net, ln, personIdx=yoloLabels.index(\"person\"))\n",
    "    \n",
    "\t(locs, preds) = predict_mask(frame, faceNet, maskNet)\n",
    "\n",
    "\tlabelsAndColor = [[\"Pakai Masker\", (0, 255, 0)], [\"Tidak Pakai Masker\", (0, 0, 255)]]\n",
    "\t\n",
    "\tfor (box, pred) in zip(locs, preds):\n",
    "\t\t(startX, startY, endX, endY) = box\n",
    "\n",
    "\t\tlabel = labelsAndColor[np.argmax(pred)][0]\n",
    "\t\tcolor = labelsAndColor[np.argmax(pred)][1]\n",
    "\n",
    "\t\tlabel = \"{}: {:.2f}%\".format(label, max(pred) * 100)\n",
    "\t\tprint(label)\n",
    "\n",
    "\t\tcv2.putText(frame, label, (startX, startY - 10),\n",
    "\t\t\tcv2.FONT_HERSHEY_SIMPLEX, 0.45, color, 2)\n",
    "\t\tcv2.rectangle(frame, (startX, startY), (endX, endY), color, 2)\n",
    "\n",
    "\t# show the output frame\n",
    "\tcv2.imshow(\"Mask And Social Distancing Detector\", frame)\n",
    "\tkey = cv2.waitKey(1) & 0xFF\n",
    "\n",
    "\tif key == ord(\"q\"):\n",
    "\t\tbreak\n",
    "\n",
    "\n",
    "# do a bit of cleanup\n",
    "cv2.destroyAllWindows()"
   ]
  }
 ],
 "metadata": {
  "kernelspec": {
   "display_name": "Python 3.10.2 64-bit",
   "language": "python",
   "name": "python3"
  },
  "language_info": {
   "codemirror_mode": {
    "name": "ipython",
    "version": 3
   },
   "file_extension": ".py",
   "mimetype": "text/x-python",
   "name": "python",
   "nbconvert_exporter": "python",
   "pygments_lexer": "ipython3",
   "version": "3.10.2"
  },
  "orig_nbformat": 4,
  "vscode": {
   "interpreter": {
    "hash": "a258a030a00aa27cc218e2c22b540d9e4bac6b115c8cb6ddd2c093a7b0a89b5a"
   }
  }
 },
 "nbformat": 4,
 "nbformat_minor": 2
}
